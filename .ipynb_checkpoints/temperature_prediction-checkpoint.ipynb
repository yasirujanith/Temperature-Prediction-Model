{
 "cells": [
  {
   "cell_type": "code",
   "execution_count": 1,
   "metadata": {},
   "outputs": [],
   "source": [
    "import pandas as pd\n",
    "import numpy as np\n",
    "import matplotlib.pylab as plt\n",
    "\n",
    "%matplotlib inline\n",
    "from matplotlib.pylab import rcParams\n",
    "\n",
    "import datetime\n",
    "\n",
    "from statsmodels.tsa.arima_model import ARIMA\n",
    "from sklearn.metrics import mean_squared_error\n",
    "\n",
    "import statsmodels.api as sm"
   ]
  },
  {
   "cell_type": "code",
   "execution_count": 2,
   "metadata": {},
   "outputs": [],
   "source": [
    "df = pd.read_csv('india_temperatures.csv')\n",
    "\n",
    "new_df = pd.DataFrame(columns=['month', 'temp'])\n",
    "\n",
    "for i in range(df.shape[0]):\n",
    "    for j in range(1, 13):\n",
    "        new_df.loc[i*12 + j] = [str(int(df.loc[i]['YEAR'])) + '-' + \"{0:0=2d}\".format(j), df.iloc[i,j]]\n",
    "        \n",
    "new_df['month'] = pd.to_datetime(new_df['month'])\n",
    "\n",
    "new_df.dropna(inplace=True)\n",
    "\n",
    "new_df.set_index('month', inplace=True)\n",
    "\n",
    "ts = new_df['temp']"
   ]
  },
  {
   "cell_type": "code",
   "execution_count": 3,
   "metadata": {},
   "outputs": [
    {
     "data": {
      "text/plain": [
       "(1404,)"
      ]
     },
     "execution_count": 3,
     "metadata": {},
     "output_type": "execute_result"
    }
   ],
   "source": [
    "ts.shape"
   ]
  },
  {
   "cell_type": "code",
   "execution_count": 4,
   "metadata": {},
   "outputs": [
    {
     "name": "stdout",
     "output_type": "stream",
     "text": [
      "(1404,)\n",
      "(1399,)\n",
      "(5,)\n"
     ]
    }
   ],
   "source": [
    "train, test = ts[0:len(ts)-5], ts[len(ts)-5:]\n",
    "\n",
    "print(ts.shape)\n",
    "print(train.shape)\n",
    "print(test.shape)"
   ]
  },
  {
   "cell_type": "code",
   "execution_count": 5,
   "metadata": {},
   "outputs": [],
   "source": [
    "history = [x for x in train]\n",
    "predictions = test.copy(deep=True)"
   ]
  },
  {
   "cell_type": "code",
   "execution_count": 6,
   "metadata": {},
   "outputs": [
    {
     "name": "stdout",
     "output_type": "stream",
     "text": [
      "predicted=31.379224, expected=31.720000\n",
      "predicted=31.742591, expected=32.220000\n",
      "predicted=31.805321, expected=32.290000\n",
      "predicted=30.172573, expected=29.600000\n",
      "predicted=27.882025, expected=27.180000\n",
      "Test MSE: 0.280\n"
     ]
    }
   ],
   "source": [
    "for t in range(len(test)):\n",
    "    model = ARIMA(history, order=(12,1,2))\n",
    "    model_fit = model.fit(disp=0)\n",
    "    output = model_fit.forecast()\n",
    "    yhat = output[0]\n",
    "    predictions[t] = yhat\n",
    "    obs = test[test.index[t]]\n",
    "    history.append(yhat)\n",
    "    print('predicted=%f, expected=%f' % (yhat, obs))\n",
    "error = mean_squared_error(test, predictions)\n",
    "print('Test MSE: %.3f' % error)"
   ]
  },
  {
   "cell_type": "code",
   "execution_count": 7,
   "metadata": {},
   "outputs": [
    {
     "data": {
      "image/png": "[encoded data removed]",
      "text/plain": [
       "<Figure size 432x288 with 1 Axes>"
      ]
     },
     "metadata": {
      "needs_background": "light"
     },
     "output_type": "display_data"
    }
   ],
   "source": [
    "plt.plot(test)\n",
    "plt.plot(predictions, color='red')\n",
    "plt.show()"
   ]
  },
  {
   "cell_type": "code",
   "execution_count": 8,
   "metadata": {},
   "outputs": [
    {
     "name": "stdout",
     "output_type": "stream",
     "text": [
      "Accuracy =  98.31549388790722\n"
     ]
    }
   ],
   "source": [
    "total = 0\n",
    "total_error = 0\n",
    "\n",
    "for j in range(len(test)):\n",
    "    total += test[j]\n",
    "    total_error += abs(test[j]-predictions[j])\n",
    "    \n",
    "print(\"Accuracy = \", (total - total_error)*100/total)"
   ]
  },
  {
   "cell_type": "code",
   "execution_count": 52,
   "metadata": {},
   "outputs": [],
   "source": [
    "# (12,0,2) => MSE = 0.293, Accuracy = 98.36\n",
    "# (12,1,2) => MSE = 0.280, Accuracy = 98.31\n",
    "# (12,2,2) => MSE = 0.279, Accuracy = 98.42\n",
    "# (12,2,2) => ValueError: d > 2 is not supported\n"
   ]
  },
  {
   "cell_type": "code",
   "execution_count": null,
   "metadata": {},
   "outputs": [],
   "source": []
  },
  {
   "cell_type": "code",
   "execution_count": null,
   "metadata": {},
   "outputs": [],
   "source": []
  },
  {
   "cell_type": "code",
   "execution_count": 6,
   "metadata": {},
   "outputs": [],
   "source": [
    "# ts = ts.reset_index(inplace=False)['temp']"
   ]
  },
  {
   "cell_type": "code",
   "execution_count": 7,
   "metadata": {},
   "outputs": [],
   "source": [
    "# history = [x for x in train]\n",
    "# predictions = [x for x in test]"
   ]
  },
  {
   "cell_type": "code",
   "execution_count": 93,
   "metadata": {},
   "outputs": [],
   "source": [
    "prediction = [x for x in predictions]"
   ]
  },
  {
   "cell_type": "code",
   "execution_count": null,
   "metadata": {},
   "outputs": [],
   "source": []
  }
 ],
 "metadata": {
  "kernelspec": {
   "display_name": "Python(MLProjectEnv)",
   "language": "python",
   "name": "mlprojectenv"
  },
  "language_info": {
   "codemirror_mode": {
    "name": "ipython",
    "version": 3
   },
   "file_extension": ".py",
   "mimetype": "text/x-python",
   "name": "python",
   "nbconvert_exporter": "python",
   "pygments_lexer": "ipython3",
   "version": "3.7.0"
  }
 },
 "nbformat": 4,
 "nbformat_minor": 2
}
